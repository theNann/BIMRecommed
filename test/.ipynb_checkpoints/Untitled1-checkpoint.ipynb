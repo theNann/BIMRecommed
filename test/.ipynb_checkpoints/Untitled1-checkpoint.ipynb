{
 "cells": [
  {
   "cell_type": "code",
   "execution_count": 2,
   "metadata": {},
   "outputs": [],
   "source": [
    "# data analysis and wrangling\n",
    "import pandas as pd\n",
    "import numpy as np\n",
    "import random as rnd\n",
    "\n",
    "# visualization\n",
    "import seaborn as sns\n",
    "import matplotlib.pyplot as plt\n",
    "%matplotlib inline\n",
    "\n",
    "# machine learning\n",
    "\n",
    "from sklearn import neighbors  \n",
    "\n",
    "from sklearn.model_selection import train_test_split"
   ]
  },
  {
   "cell_type": "code",
   "execution_count": 3,
   "metadata": {},
   "outputs": [
    {
     "data": {
      "text/plain": [
       "(9472, 9)"
      ]
     },
     "execution_count": 3,
     "metadata": {},
     "output_type": "execute_result"
    }
   ],
   "source": [
    "data_train = pd.read_csv('../input/data_train.csv')\n",
    "data_train.shape"
   ]
  },
  {
   "cell_type": "code",
   "execution_count": 4,
   "metadata": {},
   "outputs": [
    {
     "data": {
      "text/html": [
       "<div>\n",
       "<style>\n",
       "    .dataframe thead tr:only-child th {\n",
       "        text-align: right;\n",
       "    }\n",
       "\n",
       "    .dataframe thead th {\n",
       "        text-align: left;\n",
       "    }\n",
       "\n",
       "    .dataframe tbody tr th {\n",
       "        vertical-align: top;\n",
       "    }\n",
       "</style>\n",
       "<table border=\"1\" class=\"dataframe\">\n",
       "  <thead>\n",
       "    <tr style=\"text-align: right;\">\n",
       "      <th></th>\n",
       "      <th>p1</th>\n",
       "      <th>p2</th>\n",
       "      <th>p3</th>\n",
       "      <th>d1</th>\n",
       "      <th>d2</th>\n",
       "      <th>d3</th>\n",
       "      <th>u1</th>\n",
       "      <th>u2</th>\n",
       "      <th>u3</th>\n",
       "    </tr>\n",
       "  </thead>\n",
       "  <tbody>\n",
       "    <tr>\n",
       "      <th>0</th>\n",
       "      <td>51.389742</td>\n",
       "      <td>17.342563</td>\n",
       "      <td>-26.032430</td>\n",
       "      <td>0.988302</td>\n",
       "      <td>-0.146331</td>\n",
       "      <td>-0.042976</td>\n",
       "      <td>0.146193</td>\n",
       "      <td>0.989236</td>\n",
       "      <td>-0.006357</td>\n",
       "    </tr>\n",
       "    <tr>\n",
       "      <th>1</th>\n",
       "      <td>21.363404</td>\n",
       "      <td>4.795427</td>\n",
       "      <td>-17.827987</td>\n",
       "      <td>0.292667</td>\n",
       "      <td>-0.122546</td>\n",
       "      <td>-0.948329</td>\n",
       "      <td>0.036138</td>\n",
       "      <td>0.992463</td>\n",
       "      <td>-0.117097</td>\n",
       "    </tr>\n",
       "    <tr>\n",
       "      <th>2</th>\n",
       "      <td>52.438313</td>\n",
       "      <td>17.324718</td>\n",
       "      <td>33.706123</td>\n",
       "      <td>0.188950</td>\n",
       "      <td>-0.228813</td>\n",
       "      <td>-0.954957</td>\n",
       "      <td>0.044413</td>\n",
       "      <td>0.973470</td>\n",
       "      <td>-0.224461</td>\n",
       "    </tr>\n",
       "    <tr>\n",
       "      <th>3</th>\n",
       "      <td>149.126049</td>\n",
       "      <td>3.871487</td>\n",
       "      <td>-35.263324</td>\n",
       "      <td>-0.912430</td>\n",
       "      <td>0.349600</td>\n",
       "      <td>0.212725</td>\n",
       "      <td>0.340469</td>\n",
       "      <td>0.936899</td>\n",
       "      <td>-0.079377</td>\n",
       "    </tr>\n",
       "    <tr>\n",
       "      <th>4</th>\n",
       "      <td>52.228719</td>\n",
       "      <td>18.455193</td>\n",
       "      <td>40.317173</td>\n",
       "      <td>0.503909</td>\n",
       "      <td>-0.347458</td>\n",
       "      <td>-0.790790</td>\n",
       "      <td>0.186721</td>\n",
       "      <td>0.937696</td>\n",
       "      <td>-0.293023</td>\n",
       "    </tr>\n",
       "  </tbody>\n",
       "</table>\n",
       "</div>"
      ],
      "text/plain": [
       "           p1         p2         p3        d1        d2        d3        u1  \\\n",
       "0   51.389742  17.342563 -26.032430  0.988302 -0.146331 -0.042976  0.146193   \n",
       "1   21.363404   4.795427 -17.827987  0.292667 -0.122546 -0.948329  0.036138   \n",
       "2   52.438313  17.324718  33.706123  0.188950 -0.228813 -0.954957  0.044413   \n",
       "3  149.126049   3.871487 -35.263324 -0.912430  0.349600  0.212725  0.340469   \n",
       "4   52.228719  18.455193  40.317173  0.503909 -0.347458 -0.790790  0.186721   \n",
       "\n",
       "         u2        u3  \n",
       "0  0.989236 -0.006357  \n",
       "1  0.992463 -0.117097  \n",
       "2  0.973470 -0.224461  \n",
       "3  0.936899 -0.079377  \n",
       "4  0.937696 -0.293023  "
      ]
     },
     "execution_count": 4,
     "metadata": {},
     "output_type": "execute_result"
    }
   ],
   "source": [
    "data_train.head()"
   ]
  },
  {
   "cell_type": "code",
   "execution_count": 7,
   "metadata": {},
   "outputs": [
    {
     "name": "stdout",
     "output_type": "stream",
     "text": [
      "(9472, 9)\n",
      "<class 'numpy.ndarray'>\n",
      "[[  5.13897421e+01   1.73425630e+01  -2.60324300e+01 ...,   1.46193000e-01\n",
      "    9.89236000e-01  -6.35714000e-03]\n",
      " [  2.13634043e+01   4.79542720e+00  -1.78279869e+01 ...,   3.61376000e-02\n",
      "    9.92463000e-01  -1.17097000e-01]\n",
      " [  5.24383133e+01   1.73247184e+01   3.37061234e+01 ...,   4.44125000e-02\n",
      "    9.73470000e-01  -2.24461000e-01]\n",
      " ..., \n",
      " [  4.09762463e+01   1.14237550e+01  -5.88591526e+01 ...,   1.40674000e-01\n",
      "    9.82593000e-01   1.21336000e-01]\n",
      " [  4.98369514e+01   2.15495193e+01   6.48562905e+01 ...,   2.93885000e-01\n",
      "    9.49594000e-01  -1.09097000e-01]\n",
      " [  2.46521991e+01   3.13839969e+00   2.65520646e+01 ...,   1.80196000e-03\n",
      "    9.97326000e-01   7.30576000e-02]]\n"
     ]
    }
   ],
   "source": [
    "tmp = np.array(data_train)\n",
    "print(tmp.shape)\n",
    "print(type(tmp))\n",
    "print(tmp)"
   ]
  },
  {
   "cell_type": "code",
   "execution_count": 21,
   "metadata": {},
   "outputs": [
    {
     "name": "stdout",
     "output_type": "stream",
     "text": [
      "(9472, 3)\n"
     ]
    },
    {
     "data": {
      "text/html": [
       "<div>\n",
       "<style>\n",
       "    .dataframe thead tr:only-child th {\n",
       "        text-align: right;\n",
       "    }\n",
       "\n",
       "    .dataframe thead th {\n",
       "        text-align: left;\n",
       "    }\n",
       "\n",
       "    .dataframe tbody tr th {\n",
       "        vertical-align: top;\n",
       "    }\n",
       "</style>\n",
       "<table border=\"1\" class=\"dataframe\">\n",
       "  <thead>\n",
       "    <tr style=\"text-align: right;\">\n",
       "      <th></th>\n",
       "      <th>p1</th>\n",
       "      <th>p2</th>\n",
       "      <th>p3</th>\n",
       "    </tr>\n",
       "  </thead>\n",
       "  <tbody>\n",
       "    <tr>\n",
       "      <th>0</th>\n",
       "      <td>51.389742</td>\n",
       "      <td>17.342563</td>\n",
       "      <td>-26.032430</td>\n",
       "    </tr>\n",
       "    <tr>\n",
       "      <th>1</th>\n",
       "      <td>21.363404</td>\n",
       "      <td>4.795427</td>\n",
       "      <td>-17.827987</td>\n",
       "    </tr>\n",
       "    <tr>\n",
       "      <th>2</th>\n",
       "      <td>52.438313</td>\n",
       "      <td>17.324718</td>\n",
       "      <td>33.706123</td>\n",
       "    </tr>\n",
       "    <tr>\n",
       "      <th>3</th>\n",
       "      <td>149.126049</td>\n",
       "      <td>3.871487</td>\n",
       "      <td>-35.263324</td>\n",
       "    </tr>\n",
       "    <tr>\n",
       "      <th>4</th>\n",
       "      <td>52.228719</td>\n",
       "      <td>18.455193</td>\n",
       "      <td>40.317173</td>\n",
       "    </tr>\n",
       "  </tbody>\n",
       "</table>\n",
       "</div>"
      ],
      "text/plain": [
       "           p1         p2         p3\n",
       "0   51.389742  17.342563 -26.032430\n",
       "1   21.363404   4.795427 -17.827987\n",
       "2   52.438313  17.324718  33.706123\n",
       "3  149.126049   3.871487 -35.263324\n",
       "4   52.228719  18.455193  40.317173"
      ]
     },
     "execution_count": 21,
     "metadata": {},
     "output_type": "execute_result"
    }
   ],
   "source": [
    "data_train_p = data_train[['p1','p2','p3']]\n",
    "print(data_train_p.shape)\n",
    "data_train_p.head()"
   ]
  },
  {
   "cell_type": "code",
   "execution_count": null,
   "metadata": {
    "collapsed": true
   },
   "outputs": [],
   "source": [
    "target_train = pd.read_csv('../input/target_train.csv')"
   ]
  }
 ],
 "metadata": {
  "kernelspec": {
   "display_name": "Python 3",
   "language": "python",
   "name": "python3"
  },
  "language_info": {
   "codemirror_mode": {
    "name": "ipython",
    "version": 3
   },
   "file_extension": ".py",
   "mimetype": "text/x-python",
   "name": "python",
   "nbconvert_exporter": "python",
   "pygments_lexer": "ipython3",
   "version": "3.6.1"
  }
 },
 "nbformat": 4,
 "nbformat_minor": 2
}
